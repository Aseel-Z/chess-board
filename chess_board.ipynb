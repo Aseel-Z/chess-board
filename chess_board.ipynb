{
 "metadata": {
  "language_info": {
   "codemirror_mode": {
    "name": "ipython",
    "version": 3
   },
   "file_extension": ".py",
   "mimetype": "text/x-python",
   "name": "python",
   "nbconvert_exporter": "python",
   "pygments_lexer": "ipython3",
   "version": 3
  },
  "orig_nbformat": 2
 },
 "nbformat": 4,
 "nbformat_minor": 2,
 "cells": [
  {
   "cell_type": "code",
   "execution_count": null,
   "metadata": {},
   "outputs": [],
   "source": [
    "class ChessBoard:\n",
    "    def __init__:\n",
    "        self.grid = grid\n",
    "\n",
    "    def add_red(self, row, column):\n",
    "\n",
    "    def add_blue(self, row, column):\n",
    "    \n",
    "    def __str__:\n",
    "        \n",
    "\n",
    "    def is_under_attack:\n"
   ]
  }
 ]
}